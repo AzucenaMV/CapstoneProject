{
  "nbformat": 4,
  "nbformat_minor": 0,
  "metadata": {
    "colab": {
      "name": "AirlineData.ipynb",
      "provenance": [],
      "include_colab_link": true
    },
    "kernelspec": {
      "name": "python3",
      "display_name": "Python 3"
    }
  },
  "cells": [
    {
      "cell_type": "markdown",
      "metadata": {
        "id": "view-in-github",
        "colab_type": "text"
      },
      "source": [
        "<a href=\"https://colab.research.google.com/github/AzucenaMV/CapstoneProject/blob/master/AirlineData.ipynb\" target=\"_parent\"><img src=\"https://colab.research.google.com/assets/colab-badge.svg\" alt=\"Open In Colab\"/></a>"
      ]
    },
    {
      "cell_type": "code",
      "metadata": {
        "id": "-eb7pOFcHOmb",
        "colab_type": "code",
        "colab": {}
      },
      "source": [
        "import pandas as pd\n",
        "import seaborn as sns\n",
        "import matplotlib.pyplot as plt\n",
        "%matplotlib inline"
      ],
      "execution_count": 0,
      "outputs": []
    },
    {
      "cell_type": "code",
      "metadata": {
        "id": "Q3Egvdguy5RA",
        "colab_type": "code",
        "colab": {}
      },
      "source": [
        "url = 'https://raw.githubusercontent.com/AzucenaMV/CapstoneProject/master/data/Accidents.csv'\n",
        "accidents = pd.read_csv(url, sep=\",\")"
      ],
      "execution_count": 0,
      "outputs": []
    },
    {
      "cell_type": "code",
      "metadata": {
        "id": "EFpMKs-IBqQZ",
        "colab_type": "code",
        "colab": {
          "base_uri": "https://localhost:8080/",
          "height": 469
        },
        "outputId": "a8126e02-0d6f-4f02-f154-9bae12151e9d"
      },
      "source": [
        "accidents.head(5)"
      ],
      "execution_count": 57,
      "outputs": [
        {
          "output_type": "execute_result",
          "data": {
            "text/html": [
              "<div>\n",
              "<style scoped>\n",
              "    .dataframe tbody tr th:only-of-type {\n",
              "        vertical-align: middle;\n",
              "    }\n",
              "\n",
              "    .dataframe tbody tr th {\n",
              "        vertical-align: top;\n",
              "    }\n",
              "\n",
              "    .dataframe thead th {\n",
              "        text-align: right;\n",
              "    }\n",
              "</style>\n",
              "<table border=\"1\" class=\"dataframe\">\n",
              "  <thead>\n",
              "    <tr style=\"text-align: right;\">\n",
              "      <th></th>\n",
              "      <th>Date</th>\n",
              "      <th>StateOfOccurrence</th>\n",
              "      <th>Location</th>\n",
              "      <th>Model</th>\n",
              "      <th>Registration</th>\n",
              "      <th>Operator</th>\n",
              "      <th>StateOfOperator</th>\n",
              "      <th>StateOfRegistry</th>\n",
              "      <th>FlightPhase</th>\n",
              "      <th>Class</th>\n",
              "      <th>Fatalities</th>\n",
              "      <th>Over2250</th>\n",
              "      <th>Over5700</th>\n",
              "      <th>ScheduledCommercial</th>\n",
              "      <th>InjuryLevel</th>\n",
              "      <th>TypeDesignator</th>\n",
              "      <th>Helicopter</th>\n",
              "      <th>Airplane</th>\n",
              "      <th>Engines</th>\n",
              "      <th>EngineType</th>\n",
              "      <th>Official</th>\n",
              "      <th>OccCats</th>\n",
              "      <th>Risk</th>\n",
              "      <th>Year</th>\n",
              "    </tr>\n",
              "  </thead>\n",
              "  <tbody>\n",
              "    <tr>\n",
              "      <th>0</th>\n",
              "      <td>\"2008-01-02T00:00:00.000Z\"</td>\n",
              "      <td>PHL</td>\n",
              "      <td>Masbate Airport (MBT)</td>\n",
              "      <td>NAMC YS11 A</td>\n",
              "      <td>RP-C3592</td>\n",
              "      <td>Philippines Asian Spirit</td>\n",
              "      <td>PHL</td>\n",
              "      <td>PHL</td>\n",
              "      <td>Landing</td>\n",
              "      <td>Accident</td>\n",
              "      <td>0.0</td>\n",
              "      <td>True</td>\n",
              "      <td>True</td>\n",
              "      <td>True</td>\n",
              "      <td>None</td>\n",
              "      <td>YS11</td>\n",
              "      <td>NaN</td>\n",
              "      <td>True</td>\n",
              "      <td>2</td>\n",
              "      <td>Turboprop</td>\n",
              "      <td>True</td>\n",
              "      <td>[\"RE\"]</td>\n",
              "      <td>RS</td>\n",
              "      <td>2008</td>\n",
              "    </tr>\n",
              "    <tr>\n",
              "      <th>1</th>\n",
              "      <td>\"2008-01-02T00:00:00.000Z\"</td>\n",
              "      <td>IRN</td>\n",
              "      <td>Tehran-Mehrabad Airport (THR)</td>\n",
              "      <td>FOKKER F27 100</td>\n",
              "      <td>EP-IDB</td>\n",
              "      <td>Iran, Islamic Republic Of Iran National Airlin...</td>\n",
              "      <td>IRN</td>\n",
              "      <td>IRN</td>\n",
              "      <td>Take-off</td>\n",
              "      <td>Accident</td>\n",
              "      <td>0.0</td>\n",
              "      <td>True</td>\n",
              "      <td>True</td>\n",
              "      <td>True</td>\n",
              "      <td>None</td>\n",
              "      <td>F27</td>\n",
              "      <td>NaN</td>\n",
              "      <td>True</td>\n",
              "      <td>2</td>\n",
              "      <td>Turboprop</td>\n",
              "      <td>True</td>\n",
              "      <td>[\"ICE\",\"F-POST\"]</td>\n",
              "      <td>OTH</td>\n",
              "      <td>2008</td>\n",
              "    </tr>\n",
              "    <tr>\n",
              "      <th>2</th>\n",
              "      <td>\"2008-01-03T00:00:00.000Z\"</td>\n",
              "      <td>USA</td>\n",
              "      <td>Oklahoma City</td>\n",
              "      <td>PILATUS PC12</td>\n",
              "      <td>N398J</td>\n",
              "      <td>NaN</td>\n",
              "      <td>NaN</td>\n",
              "      <td>USA</td>\n",
              "      <td>Standing</td>\n",
              "      <td>Accident</td>\n",
              "      <td>1.0</td>\n",
              "      <td>True</td>\n",
              "      <td>False</td>\n",
              "      <td>NaN</td>\n",
              "      <td>Fatal</td>\n",
              "      <td>PC12</td>\n",
              "      <td>False</td>\n",
              "      <td>True</td>\n",
              "      <td>1</td>\n",
              "      <td>Turboprop</td>\n",
              "      <td>NaN</td>\n",
              "      <td>[\"RAMP\"]</td>\n",
              "      <td>OTH</td>\n",
              "      <td>2008</td>\n",
              "    </tr>\n",
              "    <tr>\n",
              "      <th>3</th>\n",
              "      <td>\"2008-01-04T00:00:00.000Z\"</td>\n",
              "      <td>CHL</td>\n",
              "      <td>NaN</td>\n",
              "      <td>Russian Helicopters (Kamov) Ka-32</td>\n",
              "      <td>EC-JGX</td>\n",
              "      <td>Babcock MCS Espana</td>\n",
              "      <td>NaN</td>\n",
              "      <td>ESP</td>\n",
              "      <td>Standing</td>\n",
              "      <td>Accident</td>\n",
              "      <td>0.0</td>\n",
              "      <td>True</td>\n",
              "      <td>True</td>\n",
              "      <td>False</td>\n",
              "      <td>None</td>\n",
              "      <td>KA50</td>\n",
              "      <td>True</td>\n",
              "      <td>False</td>\n",
              "      <td>2</td>\n",
              "      <td>Turboprop</td>\n",
              "      <td>NaN</td>\n",
              "      <td>[]</td>\n",
              "      <td>NaN</td>\n",
              "      <td>2008</td>\n",
              "    </tr>\n",
              "    <tr>\n",
              "      <th>4</th>\n",
              "      <td>\"2008-01-04T00:00:00.000Z\"</td>\n",
              "      <td>VEN</td>\n",
              "      <td>A 20 NM del VOR del Gran Roque</td>\n",
              "      <td>LET L410 UVP</td>\n",
              "      <td>YV2081</td>\n",
              "      <td>Venezuela</td>\n",
              "      <td>VEN</td>\n",
              "      <td>VEN</td>\n",
              "      <td>En route</td>\n",
              "      <td>Accident</td>\n",
              "      <td>14.0</td>\n",
              "      <td>True</td>\n",
              "      <td>True</td>\n",
              "      <td>True</td>\n",
              "      <td>Fatal</td>\n",
              "      <td>L410</td>\n",
              "      <td>NaN</td>\n",
              "      <td>True</td>\n",
              "      <td>2</td>\n",
              "      <td>Turboprop</td>\n",
              "      <td>True</td>\n",
              "      <td>[\"SCF-PP\"]</td>\n",
              "      <td>SCF</td>\n",
              "      <td>2008</td>\n",
              "    </tr>\n",
              "  </tbody>\n",
              "</table>\n",
              "</div>"
            ],
            "text/plain": [
              "                         Date StateOfOccurrence  ... Risk  Year\n",
              "0  \"2008-01-02T00:00:00.000Z\"               PHL  ...   RS  2008\n",
              "1  \"2008-01-02T00:00:00.000Z\"               IRN  ...  OTH  2008\n",
              "2  \"2008-01-03T00:00:00.000Z\"               USA  ...  OTH  2008\n",
              "3  \"2008-01-04T00:00:00.000Z\"               CHL  ...  NaN  2008\n",
              "4  \"2008-01-04T00:00:00.000Z\"               VEN  ...  SCF  2008\n",
              "\n",
              "[5 rows x 24 columns]"
            ]
          },
          "metadata": {
            "tags": []
          },
          "execution_count": 57
        }
      ]
    },
    {
      "cell_type": "code",
      "metadata": {
        "id": "BXPPHGm_B1kX",
        "colab_type": "code",
        "colab": {}
      },
      "source": [
        "air_accidents = accidents[accidents['Airplane']]"
      ],
      "execution_count": 0,
      "outputs": []
    },
    {
      "cell_type": "code",
      "metadata": {
        "id": "pzcpGFiHBoWJ",
        "colab_type": "code",
        "colab": {}
      },
      "source": [
        "accidents[['date','rate']].set_index('date').plot()\n",
        "plt.title('Unemployment Rate')"
      ],
      "execution_count": 0,
      "outputs": []
    },
    {
      "cell_type": "code",
      "metadata": {
        "id": "qrxbscXvzMYR",
        "colab_type": "code",
        "colab": {}
      },
      "source": [
        "url = \"https://raw.githubusercontent.com/AzucenaMV/CapstoneProject/master/data/loadfactor.csv\"\n",
        "lf = pd.read_csv(url)"
      ],
      "execution_count": 0,
      "outputs": []
    },
    {
      "cell_type": "code",
      "metadata": {
        "id": "LShajwOg0Xau",
        "colab_type": "code",
        "colab": {}
      },
      "source": [
        "lf = lf[~lf[\"Month\"].str.contains(\"TOTAL\")]"
      ],
      "execution_count": 0,
      "outputs": []
    },
    {
      "cell_type": "code",
      "metadata": {
        "id": "Oxkq-9uj0yr5",
        "colab_type": "code",
        "outputId": "3187c94e-a3e8-48d5-a083-75ec9f8af794",
        "colab": {
          "base_uri": "https://localhost:8080/",
          "height": 363
        }
      },
      "source": [
        "lf.head(10)"
      ],
      "execution_count": 0,
      "outputs": [
        {
          "output_type": "execute_result",
          "data": {
            "text/html": [
              "<div>\n",
              "<style scoped>\n",
              "    .dataframe tbody tr th:only-of-type {\n",
              "        vertical-align: middle;\n",
              "    }\n",
              "\n",
              "    .dataframe tbody tr th {\n",
              "        vertical-align: top;\n",
              "    }\n",
              "\n",
              "    .dataframe thead th {\n",
              "        text-align: right;\n",
              "    }\n",
              "</style>\n",
              "<table border=\"1\" class=\"dataframe\">\n",
              "  <thead>\n",
              "    <tr style=\"text-align: right;\">\n",
              "      <th></th>\n",
              "      <th>Year</th>\n",
              "      <th>Month</th>\n",
              "      <th>DOMESTIC</th>\n",
              "      <th>INTERNATIONAL</th>\n",
              "      <th>TOTAL</th>\n",
              "    </tr>\n",
              "  </thead>\n",
              "  <tbody>\n",
              "    <tr>\n",
              "      <th>0</th>\n",
              "      <td>2002</td>\n",
              "      <td>10</td>\n",
              "      <td>67.88</td>\n",
              "      <td>72.85</td>\n",
              "      <td>70.01</td>\n",
              "    </tr>\n",
              "    <tr>\n",
              "      <th>1</th>\n",
              "      <td>2002</td>\n",
              "      <td>11</td>\n",
              "      <td>66.62</td>\n",
              "      <td>69.86</td>\n",
              "      <td>68.00</td>\n",
              "    </tr>\n",
              "    <tr>\n",
              "      <th>2</th>\n",
              "      <td>2002</td>\n",
              "      <td>12</td>\n",
              "      <td>72.88</td>\n",
              "      <td>73.42</td>\n",
              "      <td>73.11</td>\n",
              "    </tr>\n",
              "    <tr>\n",
              "      <th>4</th>\n",
              "      <td>2003</td>\n",
              "      <td>1</td>\n",
              "      <td>64.40</td>\n",
              "      <td>72.50</td>\n",
              "      <td>67.90</td>\n",
              "    </tr>\n",
              "    <tr>\n",
              "      <th>5</th>\n",
              "      <td>2003</td>\n",
              "      <td>2</td>\n",
              "      <td>68.10</td>\n",
              "      <td>68.89</td>\n",
              "      <td>68.43</td>\n",
              "    </tr>\n",
              "    <tr>\n",
              "      <th>6</th>\n",
              "      <td>2003</td>\n",
              "      <td>3</td>\n",
              "      <td>72.43</td>\n",
              "      <td>69.36</td>\n",
              "      <td>71.14</td>\n",
              "    </tr>\n",
              "    <tr>\n",
              "      <th>7</th>\n",
              "      <td>2003</td>\n",
              "      <td>4</td>\n",
              "      <td>72.13</td>\n",
              "      <td>66.78</td>\n",
              "      <td>69.97</td>\n",
              "    </tr>\n",
              "    <tr>\n",
              "      <th>8</th>\n",
              "      <td>2003</td>\n",
              "      <td>5</td>\n",
              "      <td>73.98</td>\n",
              "      <td>72.42</td>\n",
              "      <td>73.35</td>\n",
              "    </tr>\n",
              "    <tr>\n",
              "      <th>9</th>\n",
              "      <td>2003</td>\n",
              "      <td>6</td>\n",
              "      <td>78.58</td>\n",
              "      <td>80.01</td>\n",
              "      <td>79.18</td>\n",
              "    </tr>\n",
              "    <tr>\n",
              "      <th>10</th>\n",
              "      <td>2003</td>\n",
              "      <td>7</td>\n",
              "      <td>80.98</td>\n",
              "      <td>81.56</td>\n",
              "      <td>81.23</td>\n",
              "    </tr>\n",
              "  </tbody>\n",
              "</table>\n",
              "</div>"
            ],
            "text/plain": [
              "    Year Month  DOMESTIC  INTERNATIONAL  TOTAL\n",
              "0   2002    10     67.88          72.85  70.01\n",
              "1   2002    11     66.62          69.86  68.00\n",
              "2   2002    12     72.88          73.42  73.11\n",
              "4   2003     1     64.40          72.50  67.90\n",
              "5   2003     2     68.10          68.89  68.43\n",
              "6   2003     3     72.43          69.36  71.14\n",
              "7   2003     4     72.13          66.78  69.97\n",
              "8   2003     5     73.98          72.42  73.35\n",
              "9   2003     6     78.58          80.01  79.18\n",
              "10  2003     7     80.98          81.56  81.23"
            ]
          },
          "metadata": {
            "tags": []
          },
          "execution_count": 12
        }
      ]
    },
    {
      "cell_type": "code",
      "metadata": {
        "id": "qUSnMIWa1RWv",
        "colab_type": "code",
        "colab": {}
      },
      "source": [
        "url = \"https://raw.githubusercontent.com/AzucenaMV/CapstoneProject/master/data/US_Jet_Fuel_Spot_Price.csv\"\n",
        "fuel_spot= pd.read_csv(url,skiprows=4)\n",
        "fuel_spot.columns = ['date','dpg']\n",
        "fuel_spot['date'] = pd.to_datetime(fuel_spot['date'], format='%m/%d/%Y')\n"
      ],
      "execution_count": 0,
      "outputs": []
    },
    {
      "cell_type": "code",
      "metadata": {
        "id": "AQaSlG5JEyJe",
        "colab_type": "code",
        "colab": {
          "base_uri": "https://localhost:8080/",
          "height": 206
        },
        "outputId": "b82cdb30-ced5-424f-8aa0-d46f42d90410"
      },
      "source": [
        "fuel_spot.head(5)"
      ],
      "execution_count": 111,
      "outputs": [
        {
          "output_type": "execute_result",
          "data": {
            "text/html": [
              "<div>\n",
              "<style scoped>\n",
              "    .dataframe tbody tr th:only-of-type {\n",
              "        vertical-align: middle;\n",
              "    }\n",
              "\n",
              "    .dataframe tbody tr th {\n",
              "        vertical-align: top;\n",
              "    }\n",
              "\n",
              "    .dataframe thead th {\n",
              "        text-align: right;\n",
              "    }\n",
              "</style>\n",
              "<table border=\"1\" class=\"dataframe\">\n",
              "  <thead>\n",
              "    <tr style=\"text-align: right;\">\n",
              "      <th></th>\n",
              "      <th>date</th>\n",
              "      <th>dpg</th>\n",
              "    </tr>\n",
              "  </thead>\n",
              "  <tbody>\n",
              "    <tr>\n",
              "      <th>0</th>\n",
              "      <td>2019-10-07</td>\n",
              "      <td>1.856</td>\n",
              "    </tr>\n",
              "    <tr>\n",
              "      <th>1</th>\n",
              "      <td>2019-10-04</td>\n",
              "      <td>1.847</td>\n",
              "    </tr>\n",
              "    <tr>\n",
              "      <th>2</th>\n",
              "      <td>2019-10-03</td>\n",
              "      <td>1.827</td>\n",
              "    </tr>\n",
              "    <tr>\n",
              "      <th>3</th>\n",
              "      <td>2019-10-02</td>\n",
              "      <td>1.818</td>\n",
              "    </tr>\n",
              "    <tr>\n",
              "      <th>4</th>\n",
              "      <td>2019-10-01</td>\n",
              "      <td>1.850</td>\n",
              "    </tr>\n",
              "  </tbody>\n",
              "</table>\n",
              "</div>"
            ],
            "text/plain": [
              "        date    dpg\n",
              "0 2019-10-07  1.856\n",
              "1 2019-10-04  1.847\n",
              "2 2019-10-03  1.827\n",
              "3 2019-10-02  1.818\n",
              "4 2019-10-01  1.850"
            ]
          },
          "metadata": {
            "tags": []
          },
          "execution_count": 111
        }
      ]
    },
    {
      "cell_type": "code",
      "metadata": {
        "id": "TWxqKGt5DHu2",
        "colab_type": "code",
        "colab": {
          "base_uri": "https://localhost:8080/",
          "height": 303
        },
        "outputId": "ddba2235-60e2-48d9-a423-e5023d8a8178"
      },
      "source": [
        "fuel_spot[['date','dpg']].set_index('date').plot()\n",
        "plt.title('Jet Fuel Spot Price')"
      ],
      "execution_count": 5,
      "outputs": [
        {
          "output_type": "execute_result",
          "data": {
            "text/plain": [
              "Text(0.5, 1.0, 'Jet Fuel Spot Price')"
            ]
          },
          "metadata": {
            "tags": []
          },
          "execution_count": 5
        },
        {
          "output_type": "display_data",
          "data": {
            "image/png": "[encoded data removed]",
            "text/plain": [
              "<Figure size 432x288 with 1 Axes>"
            ]
          },
          "metadata": {
            "tags": []
          }
        }
      ]
    },
    {
      "cell_type": "markdown",
      "metadata": {
        "id": "8nZx1OBuNf9S",
        "colab_type": "text"
      },
      "source": [
        ""
      ]
    },
    {
      "cell_type": "code",
      "metadata": {
        "id": "-QaPYlWoLvjz",
        "colab_type": "code",
        "colab": {}
      },
      "source": [
        "fuel_spot['qy'] =  fuel_spot['date'].dt.year.apply(str) + \"Q\" + fuel_spot['date'].dt.quarter.apply(str) "
      ],
      "execution_count": 0,
      "outputs": []
    },
    {
      "cell_type": "code",
      "metadata": {
        "id": "F706aqKhL5ZX",
        "colab_type": "code",
        "colab": {
          "base_uri": "https://localhost:8080/",
          "height": 301
        },
        "outputId": "ccc513eb-b1cd-4725-ce55-8f9e55f082f3"
      },
      "source": [
        "fuel_spot[fuel_spot.date >= \"2010-10-04\"].groupby(['qy']).mean().plot()"
      ],
      "execution_count": 12,
      "outputs": [
        {
          "output_type": "execute_result",
          "data": {
            "text/plain": [
              "<matplotlib.axes._subplots.AxesSubplot at 0x7ff147b8eda0>"
            ]
          },
          "metadata": {
            "tags": []
          },
          "execution_count": 12
        },
        {
          "output_type": "display_data",
          "data": {
            "image/png": "[encoded data removed]",
            "text/plain": [
              "<Figure size 432x288 with 1 Axes>"
            ]
          },
          "metadata": {
            "tags": []
          }
        }
      ]
    },
    {
      "cell_type": "code",
      "metadata": {
        "id": "emffBktK2MNo",
        "colab_type": "code",
        "colab": {}
      },
      "source": [
        "url = \"https://raw.githubusercontent.com/AzucenaMV/CapstoneProject/master/data/UnemploymentRate.csv\"\n",
        "unemployment = pd.read_csv(url)"
      ],
      "execution_count": 0,
      "outputs": []
    },
    {
      "cell_type": "code",
      "metadata": {
        "id": "v7CtrviIYy6g",
        "colab_type": "code",
        "colab": {}
      },
      "source": [
        "unemployment.rename(columns = dict(zip(unemployment.columns, ['date', 'rate'])), inplace=True)\n",
        "unemployment['date'] = pd.to_datetime(unemployment['date'], format='%Y-%m-%d')"
      ],
      "execution_count": 0,
      "outputs": []
    },
    {
      "cell_type": "code",
      "metadata": {
        "id": "1ZCjWOie2pVs",
        "colab_type": "code",
        "outputId": "525726e7-49b1-4858-d424-eea774b9343a",
        "colab": {
          "base_uri": "https://localhost:8080/",
          "height": 204
        }
      },
      "source": [
        "unemployment.head()"
      ],
      "execution_count": 0,
      "outputs": [
        {
          "output_type": "execute_result",
          "data": {
            "text/html": [
              "<div>\n",
              "<style scoped>\n",
              "    .dataframe tbody tr th:only-of-type {\n",
              "        vertical-align: middle;\n",
              "    }\n",
              "\n",
              "    .dataframe tbody tr th {\n",
              "        vertical-align: top;\n",
              "    }\n",
              "\n",
              "    .dataframe thead th {\n",
              "        text-align: right;\n",
              "    }\n",
              "</style>\n",
              "<table border=\"1\" class=\"dataframe\">\n",
              "  <thead>\n",
              "    <tr style=\"text-align: right;\">\n",
              "      <th></th>\n",
              "      <th>date</th>\n",
              "      <th>rate</th>\n",
              "    </tr>\n",
              "  </thead>\n",
              "  <tbody>\n",
              "    <tr>\n",
              "      <th>0</th>\n",
              "      <td>1948-01-01</td>\n",
              "      <td>3.4</td>\n",
              "    </tr>\n",
              "    <tr>\n",
              "      <th>1</th>\n",
              "      <td>1948-02-01</td>\n",
              "      <td>3.8</td>\n",
              "    </tr>\n",
              "    <tr>\n",
              "      <th>2</th>\n",
              "      <td>1948-03-01</td>\n",
              "      <td>4.0</td>\n",
              "    </tr>\n",
              "    <tr>\n",
              "      <th>3</th>\n",
              "      <td>1948-04-01</td>\n",
              "      <td>3.9</td>\n",
              "    </tr>\n",
              "    <tr>\n",
              "      <th>4</th>\n",
              "      <td>1948-05-01</td>\n",
              "      <td>3.5</td>\n",
              "    </tr>\n",
              "  </tbody>\n",
              "</table>\n",
              "</div>"
            ],
            "text/plain": [
              "        date  rate\n",
              "0 1948-01-01   3.4\n",
              "1 1948-02-01   3.8\n",
              "2 1948-03-01   4.0\n",
              "3 1948-04-01   3.9\n",
              "4 1948-05-01   3.5"
            ]
          },
          "metadata": {
            "tags": []
          },
          "execution_count": 17
        }
      ]
    },
    {
      "cell_type": "code",
      "metadata": {
        "id": "92D76q_sY9wd",
        "colab_type": "code",
        "outputId": "02ca8a17-9d1f-43d4-92c3-372f685bb765",
        "colab": {
          "base_uri": "https://localhost:8080/",
          "height": 312
        }
      },
      "source": [
        "unemployment[['date','rate']].set_index('date').plot()\n",
        "plt.title('Unemployment Rate')"
      ],
      "execution_count": 0,
      "outputs": [
        {
          "output_type": "execute_result",
          "data": {
            "text/plain": [
              "Text(0.5, 1.0, 'Unemployment Rate')"
            ]
          },
          "metadata": {
            "tags": []
          },
          "execution_count": 18
        },
        {
          "output_type": "display_data",
          "data": {
            "image/png": "[encoded data removed]",
            "text/plain": [
              "<Figure size 432x288 with 1 Axes>"
            ]
          },
          "metadata": {
            "tags": []
          }
        }
      ]
    },
    {
      "cell_type": "code",
      "metadata": {
        "id": "KDzTltc5201q",
        "colab_type": "code",
        "colab": {}
      },
      "source": [
        "url = \"https://raw.githubusercontent.com/AzucenaMV/CapstoneProject/master/data/airlineGT.csv\"\n",
        "trend = pd.read_csv(url, skiprows = 2)"
      ],
      "execution_count": 0,
      "outputs": []
    },
    {
      "cell_type": "code",
      "metadata": {
        "id": "taV5we6L4SxD",
        "colab_type": "code",
        "outputId": "fca0363f-4cde-4ac5-daac-23a611100e07",
        "colab": {
          "base_uri": "https://localhost:8080/",
          "height": 206
        }
      },
      "source": [
        "trend.head(5)"
      ],
      "execution_count": 0,
      "outputs": [
        {
          "output_type": "execute_result",
          "data": {
            "text/html": [
              "<div>\n",
              "<style scoped>\n",
              "    .dataframe tbody tr th:only-of-type {\n",
              "        vertical-align: middle;\n",
              "    }\n",
              "\n",
              "    .dataframe tbody tr th {\n",
              "        vertical-align: top;\n",
              "    }\n",
              "\n",
              "    .dataframe thead th {\n",
              "        text-align: right;\n",
              "    }\n",
              "</style>\n",
              "<table border=\"1\" class=\"dataframe\">\n",
              "  <thead>\n",
              "    <tr style=\"text-align: right;\">\n",
              "      <th></th>\n",
              "      <th>Mes</th>\n",
              "      <th>airline: (Estados Unidos)</th>\n",
              "    </tr>\n",
              "  </thead>\n",
              "  <tbody>\n",
              "    <tr>\n",
              "      <th>0</th>\n",
              "      <td>2004-01</td>\n",
              "      <td>86</td>\n",
              "    </tr>\n",
              "    <tr>\n",
              "      <th>1</th>\n",
              "      <td>2004-02</td>\n",
              "      <td>85</td>\n",
              "    </tr>\n",
              "    <tr>\n",
              "      <th>2</th>\n",
              "      <td>2004-03</td>\n",
              "      <td>86</td>\n",
              "    </tr>\n",
              "    <tr>\n",
              "      <th>3</th>\n",
              "      <td>2004-04</td>\n",
              "      <td>85</td>\n",
              "    </tr>\n",
              "    <tr>\n",
              "      <th>4</th>\n",
              "      <td>2004-05</td>\n",
              "      <td>92</td>\n",
              "    </tr>\n",
              "  </tbody>\n",
              "</table>\n",
              "</div>"
            ],
            "text/plain": [
              "       Mes  airline: (Estados Unidos)\n",
              "0  2004-01                         86\n",
              "1  2004-02                         85\n",
              "2  2004-03                         86\n",
              "3  2004-04                         85\n",
              "4  2004-05                         92"
            ]
          },
          "metadata": {
            "tags": []
          },
          "execution_count": 28
        }
      ]
    },
    {
      "cell_type": "code",
      "metadata": {
        "id": "pS4MPsoX6dcT",
        "colab_type": "code",
        "colab": {}
      },
      "source": [
        "url = \"https://raw.githubusercontent.com/AzucenaMV/CapstoneProject/master/data/GDP_QPCSA.csv\"\n",
        "gdp = pd.read_csv(url)"
      ],
      "execution_count": 0,
      "outputs": []
    },
    {
      "cell_type": "code",
      "metadata": {
        "id": "bcClfDtxYf4p",
        "colab_type": "code",
        "colab": {}
      },
      "source": [
        "gdp.rename(columns = dict(zip(gdp.columns, ['date', 'value'])), inplace=True)\n",
        "gdp['date'] = pd.to_datetime(gdp['date'], format='%Y-%m-%d')\n"
      ],
      "execution_count": 0,
      "outputs": []
    },
    {
      "cell_type": "code",
      "metadata": {
        "id": "fIufoPS_6rYW",
        "colab_type": "code",
        "outputId": "5429bbe7-1b23-4faf-c2b8-ebd548c22a47",
        "colab": {
          "base_uri": "https://localhost:8080/",
          "height": 204
        }
      },
      "source": [
        "gdp.head()"
      ],
      "execution_count": 0,
      "outputs": [
        {
          "output_type": "execute_result",
          "data": {
            "text/html": [
              "<div>\n",
              "<style scoped>\n",
              "    .dataframe tbody tr th:only-of-type {\n",
              "        vertical-align: middle;\n",
              "    }\n",
              "\n",
              "    .dataframe tbody tr th {\n",
              "        vertical-align: top;\n",
              "    }\n",
              "\n",
              "    .dataframe thead th {\n",
              "        text-align: right;\n",
              "    }\n",
              "</style>\n",
              "<table border=\"1\" class=\"dataframe\">\n",
              "  <thead>\n",
              "    <tr style=\"text-align: right;\">\n",
              "      <th></th>\n",
              "      <th>date</th>\n",
              "      <th>value</th>\n",
              "    </tr>\n",
              "  </thead>\n",
              "  <tbody>\n",
              "    <tr>\n",
              "      <th>0</th>\n",
              "      <td>1947-04-01</td>\n",
              "      <td>4.9</td>\n",
              "    </tr>\n",
              "    <tr>\n",
              "      <th>1</th>\n",
              "      <td>1947-07-01</td>\n",
              "      <td>6.0</td>\n",
              "    </tr>\n",
              "    <tr>\n",
              "      <th>2</th>\n",
              "      <td>1947-10-01</td>\n",
              "      <td>17.4</td>\n",
              "    </tr>\n",
              "    <tr>\n",
              "      <th>3</th>\n",
              "      <td>1948-01-01</td>\n",
              "      <td>9.8</td>\n",
              "    </tr>\n",
              "    <tr>\n",
              "      <th>4</th>\n",
              "      <td>1948-04-01</td>\n",
              "      <td>10.8</td>\n",
              "    </tr>\n",
              "  </tbody>\n",
              "</table>\n",
              "</div>"
            ],
            "text/plain": [
              "        date  value\n",
              "0 1947-04-01    4.9\n",
              "1 1947-07-01    6.0\n",
              "2 1947-10-01   17.4\n",
              "3 1948-01-01    9.8\n",
              "4 1948-04-01   10.8"
            ]
          },
          "metadata": {
            "tags": []
          },
          "execution_count": 10
        }
      ]
    },
    {
      "cell_type": "code",
      "metadata": {
        "id": "8vYycd5mYolU",
        "colab_type": "code",
        "outputId": "f40a8097-0d13-480d-9904-2016b260f0c2",
        "colab": {
          "base_uri": "https://localhost:8080/",
          "height": 312
        }
      },
      "source": [
        "gdp[['date','value']].set_index('date').plot()\n",
        "plt.title('GPD')"
      ],
      "execution_count": 0,
      "outputs": [
        {
          "output_type": "execute_result",
          "data": {
            "text/plain": [
              "Text(0.5, 1.0, 'GPD')"
            ]
          },
          "metadata": {
            "tags": []
          },
          "execution_count": 11
        },
        {
          "output_type": "display_data",
          "data": {
            "image/png": "[encoded data removed]",
            "text/plain": [
              "<Figure size 432x288 with 1 Axes>"
            ]
          },
          "metadata": {
            "tags": []
          }
        }
      ]
    },
    {
      "cell_type": "code",
      "metadata": {
        "id": "UifWQ_R564p5",
        "colab_type": "code",
        "colab": {}
      },
      "source": [
        "url = \"https://raw.githubusercontent.com/AzucenaMV/CapstoneProject/master/data/CPI_SA.csv\"\n",
        "cpi = pd.read_csv(url)\n",
        "cpi.columns = [\"date\",\"cpi\"]"
      ],
      "execution_count": 0,
      "outputs": []
    },
    {
      "cell_type": "code",
      "metadata": {
        "id": "F4dLHlQy-qKd",
        "colab_type": "code",
        "colab": {
          "base_uri": "https://localhost:8080/",
          "height": 206
        },
        "outputId": "ed316cc1-2f81-46f0-9dfe-f03a45be64fe"
      },
      "source": [
        "cpi.head(5)"
      ],
      "execution_count": 27,
      "outputs": [
        {
          "output_type": "execute_result",
          "data": {
            "text/html": [
              "<div>\n",
              "<style scoped>\n",
              "    .dataframe tbody tr th:only-of-type {\n",
              "        vertical-align: middle;\n",
              "    }\n",
              "\n",
              "    .dataframe tbody tr th {\n",
              "        vertical-align: top;\n",
              "    }\n",
              "\n",
              "    .dataframe thead th {\n",
              "        text-align: right;\n",
              "    }\n",
              "</style>\n",
              "<table border=\"1\" class=\"dataframe\">\n",
              "  <thead>\n",
              "    <tr style=\"text-align: right;\">\n",
              "      <th></th>\n",
              "      <th>date</th>\n",
              "      <th>cpi</th>\n",
              "    </tr>\n",
              "  </thead>\n",
              "  <tbody>\n",
              "    <tr>\n",
              "      <th>0</th>\n",
              "      <td>1947-01-01</td>\n",
              "      <td>21.48</td>\n",
              "    </tr>\n",
              "    <tr>\n",
              "      <th>1</th>\n",
              "      <td>1947-02-01</td>\n",
              "      <td>21.62</td>\n",
              "    </tr>\n",
              "    <tr>\n",
              "      <th>2</th>\n",
              "      <td>1947-03-01</td>\n",
              "      <td>22.00</td>\n",
              "    </tr>\n",
              "    <tr>\n",
              "      <th>3</th>\n",
              "      <td>1947-04-01</td>\n",
              "      <td>22.00</td>\n",
              "    </tr>\n",
              "    <tr>\n",
              "      <th>4</th>\n",
              "      <td>1947-05-01</td>\n",
              "      <td>21.95</td>\n",
              "    </tr>\n",
              "  </tbody>\n",
              "</table>\n",
              "</div>"
            ],
            "text/plain": [
              "         date    cpi\n",
              "0  1947-01-01  21.48\n",
              "1  1947-02-01  21.62\n",
              "2  1947-03-01  22.00\n",
              "3  1947-04-01  22.00\n",
              "4  1947-05-01  21.95"
            ]
          },
          "metadata": {
            "tags": []
          },
          "execution_count": 27
        }
      ]
    },
    {
      "cell_type": "code",
      "metadata": {
        "id": "a07hvlpB97Vr",
        "colab_type": "code",
        "colab": {}
      },
      "source": [
        "diff = cpi['cpi'].diff(periods=1)[1:] "
      ],
      "execution_count": 0,
      "outputs": []
    },
    {
      "cell_type": "code",
      "metadata": {
        "id": "EdrLM9VU_7vD",
        "colab_type": "code",
        "colab": {}
      },
      "source": [
        "cpi['inflation'] = diff.values / cpi['cpi'][:-1]"
      ],
      "execution_count": 0,
      "outputs": []
    },
    {
      "cell_type": "code",
      "metadata": {
        "id": "Bzt-67sz97Sg",
        "colab_type": "code",
        "colab": {
          "base_uri": "https://localhost:8080/",
          "height": 313
        },
        "outputId": "2b95c68b-5a4a-4973-8382-8870f0b0b020"
      },
      "source": [
        "cpi[['date','inflation']].set_index('date').plot()\n",
        "plt.title('Inflation')"
      ],
      "execution_count": 54,
      "outputs": [
        {
          "output_type": "execute_result",
          "data": {
            "text/plain": [
              "Text(0.5, 1.0, 'Inflation')"
            ]
          },
          "metadata": {
            "tags": []
          },
          "execution_count": 54
        },
        {
          "output_type": "display_data",
          "data": {
            "image/png": "[encoded data removed]",
            "text/plain": [
              "<Figure size 432x288 with 1 Axes>"
            ]
          },
          "metadata": {
            "tags": []
          }
        }
      ]
    },
    {
      "cell_type": "markdown",
      "metadata": {
        "id": "ZrCWP3RSsIxC",
        "colab_type": "text"
      },
      "source": [
        "## Delta Airline\n",
        "\n",
        "### Fundamentals"
      ]
    },
    {
      "cell_type": "code",
      "metadata": {
        "id": "tmHhFeAWsIEb",
        "colab_type": "code",
        "colab": {}
      },
      "source": [
        "url = 'https://raw.githubusercontent.com/AzucenaMV/CapstoneProject/master/data/Delta/DAL-fundamentals.csv'\n",
        "dal_fdmt = pd.read_csv(url)"
      ],
      "execution_count": 0,
      "outputs": []
    },
    {
      "cell_type": "code",
      "metadata": {
        "id": "X5gY0Pxz9K4C",
        "colab_type": "code",
        "colab": {}
      },
      "source": [
        "dal_fdmt['datadate'] = pd.to_datetime(dal_fdmt['datadate'], format='%Y%m%d')"
      ],
      "execution_count": 0,
      "outputs": []
    },
    {
      "cell_type": "code",
      "metadata": {
        "id": "32cuEPdfstu7",
        "colab_type": "code",
        "outputId": "b5816af3-e26b-4e77-f140-2c84b9ca04d4",
        "colab": {
          "base_uri": "https://localhost:8080/",
          "height": 206
        }
      },
      "source": [
        "dal_fdmt.loc[:,['datadate', 'tic', \n",
        "       'dvpq', 'epsf12', 'epsfxq', 'ibq', 'revtq', \n",
        "       'mkvaltq', 'prccq']].head()"
      ],
      "execution_count": 19,
      "outputs": [
        {
          "output_type": "execute_result",
          "data": {
            "text/html": [
              "<div>\n",
              "<style scoped>\n",
              "    .dataframe tbody tr th:only-of-type {\n",
              "        vertical-align: middle;\n",
              "    }\n",
              "\n",
              "    .dataframe tbody tr th {\n",
              "        vertical-align: top;\n",
              "    }\n",
              "\n",
              "    .dataframe thead th {\n",
              "        text-align: right;\n",
              "    }\n",
              "</style>\n",
              "<table border=\"1\" class=\"dataframe\">\n",
              "  <thead>\n",
              "    <tr style=\"text-align: right;\">\n",
              "      <th></th>\n",
              "      <th>datadate</th>\n",
              "      <th>tic</th>\n",
              "      <th>dvpq</th>\n",
              "      <th>epsf12</th>\n",
              "      <th>epsfxq</th>\n",
              "      <th>ibq</th>\n",
              "      <th>revtq</th>\n",
              "      <th>mkvaltq</th>\n",
              "      <th>prccq</th>\n",
              "    </tr>\n",
              "  </thead>\n",
              "  <tbody>\n",
              "    <tr>\n",
              "      <th>0</th>\n",
              "      <td>2009-06-30</td>\n",
              "      <td>DAL</td>\n",
              "      <td>0.0</td>\n",
              "      <td>-3.51</td>\n",
              "      <td>-0.31</td>\n",
              "      <td>-257.0</td>\n",
              "      <td>7000.0</td>\n",
              "      <td>4502.5646</td>\n",
              "      <td>5.79</td>\n",
              "    </tr>\n",
              "    <tr>\n",
              "      <th>1</th>\n",
              "      <td>2009-09-30</td>\n",
              "      <td>DAL</td>\n",
              "      <td>0.0</td>\n",
              "      <td>-3.58</td>\n",
              "      <td>-0.19</td>\n",
              "      <td>-161.0</td>\n",
              "      <td>7574.0</td>\n",
              "      <td>6984.5171</td>\n",
              "      <td>8.96</td>\n",
              "    </tr>\n",
              "    <tr>\n",
              "      <th>2</th>\n",
              "      <td>2009-12-31</td>\n",
              "      <td>DAL</td>\n",
              "      <td>0.0</td>\n",
              "      <td>-1.50</td>\n",
              "      <td>-0.03</td>\n",
              "      <td>-25.0</td>\n",
              "      <td>6805.0</td>\n",
              "      <td>8921.4079</td>\n",
              "      <td>11.38</td>\n",
              "    </tr>\n",
              "    <tr>\n",
              "      <th>3</th>\n",
              "      <td>2010-03-31</td>\n",
              "      <td>DAL</td>\n",
              "      <td>0.0</td>\n",
              "      <td>-0.84</td>\n",
              "      <td>-0.31</td>\n",
              "      <td>-256.0</td>\n",
              "      <td>6848.0</td>\n",
              "      <td>11488.0055</td>\n",
              "      <td>14.59</td>\n",
              "    </tr>\n",
              "    <tr>\n",
              "      <th>4</th>\n",
              "      <td>2010-06-30</td>\n",
              "      <td>DAL</td>\n",
              "      <td>0.0</td>\n",
              "      <td>0.03</td>\n",
              "      <td>0.55</td>\n",
              "      <td>467.0</td>\n",
              "      <td>8168.0</td>\n",
              "      <td>9268.9758</td>\n",
              "      <td>11.75</td>\n",
              "    </tr>\n",
              "  </tbody>\n",
              "</table>\n",
              "</div>"
            ],
            "text/plain": [
              "    datadate  tic  dvpq  epsf12  epsfxq    ibq   revtq     mkvaltq  prccq\n",
              "0 2009-06-30  DAL   0.0   -3.51   -0.31 -257.0  7000.0   4502.5646   5.79\n",
              "1 2009-09-30  DAL   0.0   -3.58   -0.19 -161.0  7574.0   6984.5171   8.96\n",
              "2 2009-12-31  DAL   0.0   -1.50   -0.03  -25.0  6805.0   8921.4079  11.38\n",
              "3 2010-03-31  DAL   0.0   -0.84   -0.31 -256.0  6848.0  11488.0055  14.59\n",
              "4 2010-06-30  DAL   0.0    0.03    0.55  467.0  8168.0   9268.9758  11.75"
            ]
          },
          "metadata": {
            "tags": []
          },
          "execution_count": 19
        }
      ]
    },
    {
      "cell_type": "code",
      "metadata": {
        "id": "KvlK4TEJsnXR",
        "colab_type": "code",
        "colab": {
          "base_uri": "https://localhost:8080/",
          "height": 313
        },
        "outputId": "7240c3e5-4845-4043-885f-9a7bf6285147"
      },
      "source": [
        "dal_fdmt[['datadate','epsfxq']].set_index('datadate').plot()\n",
        "plt.title('Earnings per share quarterly')"
      ],
      "execution_count": 22,
      "outputs": [
        {
          "output_type": "execute_result",
          "data": {
            "text/plain": [
              "Text(0.5, 1.0, 'Earnings per share quarterly')"
            ]
          },
          "metadata": {
            "tags": []
          },
          "execution_count": 22
        },
        {
          "output_type": "display_data",
          "data": {
            "image/png": "[encoded data removed]",
            "text/plain": [
              "<Figure size 432x288 with 1 Axes>"
            ]
          },
          "metadata": {
            "tags": []
          }
        }
      ]
    },
    {
      "cell_type": "markdown",
      "metadata": {
        "id": "r45ozYIIuo0F",
        "colab_type": "text"
      },
      "source": [
        "### Stock Price"
      ]
    },
    {
      "cell_type": "code",
      "metadata": {
        "id": "UETy5to6utHp",
        "colab_type": "code",
        "colab": {}
      },
      "source": [
        "url = 'https://raw.githubusercontent.com/AzucenaMV/CapstoneProject/master/data/Delta/DAL-stock.csv'\n",
        "dal_stock = pd.read_csv(url)"
      ],
      "execution_count": 0,
      "outputs": []
    },
    {
      "cell_type": "code",
      "metadata": {
        "id": "OnUDjUs96Ks9",
        "colab_type": "code",
        "outputId": "273e64eb-8c38-4cf9-c05f-99814906b5fe",
        "colab": {
          "base_uri": "https://localhost:8080/",
          "height": 206
        }
      },
      "source": [
        "dal_stock.head(5)"
      ],
      "execution_count": 15,
      "outputs": [
        {
          "output_type": "execute_result",
          "data": {
            "text/html": [
              "<div>\n",
              "<style scoped>\n",
              "    .dataframe tbody tr th:only-of-type {\n",
              "        vertical-align: middle;\n",
              "    }\n",
              "\n",
              "    .dataframe tbody tr th {\n",
              "        vertical-align: top;\n",
              "    }\n",
              "\n",
              "    .dataframe thead th {\n",
              "        text-align: right;\n",
              "    }\n",
              "</style>\n",
              "<table border=\"1\" class=\"dataframe\">\n",
              "  <thead>\n",
              "    <tr style=\"text-align: right;\">\n",
              "      <th></th>\n",
              "      <th>gvkey</th>\n",
              "      <th>iid</th>\n",
              "      <th>datadate</th>\n",
              "      <th>tic</th>\n",
              "      <th>conm</th>\n",
              "      <th>cshoc</th>\n",
              "      <th>cshtrd</th>\n",
              "      <th>eps</th>\n",
              "      <th>epsmo</th>\n",
              "      <th>prccd</th>\n",
              "      <th>exchg</th>\n",
              "      <th>spcindcd</th>\n",
              "      <th>spcseccd</th>\n",
              "    </tr>\n",
              "  </thead>\n",
              "  <tbody>\n",
              "    <tr>\n",
              "      <th>0</th>\n",
              "      <td>3851</td>\n",
              "      <td>3</td>\n",
              "      <td>2010-01-04</td>\n",
              "      <td>DAL</td>\n",
              "      <td>DELTA AIR LINES INC</td>\n",
              "      <td>779522000.0</td>\n",
              "      <td>14482470.0</td>\n",
              "      <td>-1.64</td>\n",
              "      <td>9</td>\n",
              "      <td>11.22</td>\n",
              "      <td>11</td>\n",
              "      <td>605</td>\n",
              "      <td>600</td>\n",
              "    </tr>\n",
              "    <tr>\n",
              "      <th>1</th>\n",
              "      <td>3851</td>\n",
              "      <td>3</td>\n",
              "      <td>2010-01-05</td>\n",
              "      <td>DAL</td>\n",
              "      <td>DELTA AIR LINES INC</td>\n",
              "      <td>779522000.0</td>\n",
              "      <td>25065900.0</td>\n",
              "      <td>-1.64</td>\n",
              "      <td>9</td>\n",
              "      <td>12.10</td>\n",
              "      <td>11</td>\n",
              "      <td>605</td>\n",
              "      <td>600</td>\n",
              "    </tr>\n",
              "    <tr>\n",
              "      <th>2</th>\n",
              "      <td>3851</td>\n",
              "      <td>3</td>\n",
              "      <td>2010-01-06</td>\n",
              "      <td>DAL</td>\n",
              "      <td>DELTA AIR LINES INC</td>\n",
              "      <td>779522000.0</td>\n",
              "      <td>14980680.0</td>\n",
              "      <td>-1.64</td>\n",
              "      <td>9</td>\n",
              "      <td>12.11</td>\n",
              "      <td>11</td>\n",
              "      <td>605</td>\n",
              "      <td>600</td>\n",
              "    </tr>\n",
              "    <tr>\n",
              "      <th>3</th>\n",
              "      <td>3851</td>\n",
              "      <td>3</td>\n",
              "      <td>2010-01-07</td>\n",
              "      <td>DAL</td>\n",
              "      <td>DELTA AIR LINES INC</td>\n",
              "      <td>779522000.0</td>\n",
              "      <td>19812230.0</td>\n",
              "      <td>-1.64</td>\n",
              "      <td>9</td>\n",
              "      <td>12.69</td>\n",
              "      <td>11</td>\n",
              "      <td>605</td>\n",
              "      <td>600</td>\n",
              "    </tr>\n",
              "    <tr>\n",
              "      <th>4</th>\n",
              "      <td>3851</td>\n",
              "      <td>3</td>\n",
              "      <td>2010-01-08</td>\n",
              "      <td>DAL</td>\n",
              "      <td>DELTA AIR LINES INC</td>\n",
              "      <td>779522000.0</td>\n",
              "      <td>24589160.0</td>\n",
              "      <td>-1.64</td>\n",
              "      <td>9</td>\n",
              "      <td>12.47</td>\n",
              "      <td>11</td>\n",
              "      <td>605</td>\n",
              "      <td>600</td>\n",
              "    </tr>\n",
              "  </tbody>\n",
              "</table>\n",
              "</div>"
            ],
            "text/plain": [
              "   gvkey  iid   datadate  tic  ...  prccd  exchg  spcindcd  spcseccd\n",
              "0   3851    3 2010-01-04  DAL  ...  11.22     11       605       600\n",
              "1   3851    3 2010-01-05  DAL  ...  12.10     11       605       600\n",
              "2   3851    3 2010-01-06  DAL  ...  12.11     11       605       600\n",
              "3   3851    3 2010-01-07  DAL  ...  12.69     11       605       600\n",
              "4   3851    3 2010-01-08  DAL  ...  12.47     11       605       600\n",
              "\n",
              "[5 rows x 13 columns]"
            ]
          },
          "metadata": {
            "tags": []
          },
          "execution_count": 15
        }
      ]
    },
    {
      "cell_type": "code",
      "metadata": {
        "id": "6UC9zLk97Dh6",
        "colab_type": "code",
        "colab": {}
      },
      "source": [
        "dal_stock['datadate'] = pd.to_datetime(dal_stock['datadate'], format='%Y%m%d')"
      ],
      "execution_count": 0,
      "outputs": []
    },
    {
      "cell_type": "code",
      "metadata": {
        "id": "RuNp27YU7uun",
        "colab_type": "code",
        "colab": {
          "base_uri": "https://localhost:8080/",
          "height": 303
        },
        "outputId": "60207bb7-036a-4520-c5af-a543198edc99"
      },
      "source": [
        "dal_stock[['datadate','prccd']].set_index('datadate').plot()\n",
        "plt.title('Delta Stock Price')"
      ],
      "execution_count": 14,
      "outputs": [
        {
          "output_type": "execute_result",
          "data": {
            "text/plain": [
              "Text(0.5, 1.0, 'Delta Stock Price')"
            ]
          },
          "metadata": {
            "tags": []
          },
          "execution_count": 14
        },
        {
          "output_type": "display_data",
          "data": {
            "image/png": "[encoded data removed]",
            "text/plain": [
              "<Figure size 432x288 with 1 Axes>"
            ]
          },
          "metadata": {
            "tags": []
          }
        }
      ]
    },
    {
      "cell_type": "code",
      "metadata": {
        "id": "sjOxs-dM7-Pq",
        "colab_type": "code",
        "colab": {}
      },
      "source": [
        ""
      ],
      "execution_count": 0,
      "outputs": []
    }
  ]
}