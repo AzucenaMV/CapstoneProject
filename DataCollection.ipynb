{
  "nbformat": 4,
  "nbformat_minor": 0,
  "metadata": {
    "colab": {
      "name": "DataCollection.ipynb",
      "provenance": [],
      "collapsed_sections": [],
      "toc_visible": true,
      "include_colab_link": true
    },
    "kernelspec": {
      "name": "python3",
      "display_name": "Python 3"
    }
  },
  "cells": [
    {
      "cell_type": "markdown",
      "metadata": {
        "id": "view-in-github",
        "colab_type": "text"
      },
      "source": [
        "<a href=\"https://colab.research.google.com/github/AzucenaMV/CapstoneProject/blob/master/DataCollection.ipynb\" target=\"_parent\"><img src=\"https://colab.research.google.com/assets/colab-badge.svg\" alt=\"Open In Colab\"/></a>"
      ]
    },
    {
      "cell_type": "code",
      "metadata": {
        "id": "qlVJnTE-rGlc",
        "colab_type": "code",
        "colab": {}
      },
      "source": [
        "import pandas as pd\n",
        "import datetime\n",
        "from functools import partial, reduce  "
      ],
      "execution_count": 0,
      "outputs": []
    },
    {
      "cell_type": "code",
      "metadata": {
        "id": "VGojjAq02Di4",
        "colab_type": "code",
        "colab": {}
      },
      "source": [
        "def sampling(dfo, freq = 'D',interpolate = False, method = 'linear'):\n",
        "  df = dfo.copy()\n",
        "  df.index = pd.to_datetime(df['date'],infer_datetime_format=True)\n",
        "  del df['date']\n",
        "  df_interpol = df.resample(freq).mean()\n",
        "  if interpolate:\n",
        "    df_interpol[df.columns] = df_interpol[df.columns].interpolate(method=method)\n",
        "  return df_interpol\n",
        "\n",
        "def date_range(dfo, start = '31-12-2009', end = '31-12-2019'):\n",
        "  end = datetime.datetime.strptime(end, \"%d-%m-%Y\")\n",
        "  start = datetime.datetime.strptime(start, \"%d-%m-%Y\")\n",
        "  df=dfo.copy()\n",
        "  df=df[(df.date >= start) & (df.date <= end)]\n",
        "  return df\n",
        "\n",
        "def get_data(url, verbose = False):\n",
        "  raw_url = url.replace(\"https://github.com/AzucenaMV/CapstoneProject/tree/master/\",\"https://raw.githubusercontent.com/AzucenaMV/CapstoneProject/master/\")\n",
        "  data_dict = {}\n",
        "  data = pd.read_html(url)[0]\n",
        "  csv_names = data.Name[data.Name.str.contains(\".csv\")]\n",
        "  for name in csv_names:\n",
        "    dict_name = name.replace(\".csv\",\"\")\n",
        "    dict_name = dict_name[0].lower() + dict_name[1:]\n",
        "    if verbose:\n",
        "      print(name)\n",
        "    frame = pd.read_csv(raw_url+name,names = ['date',dict_name],skiprows=1, na_values = \".\")\n",
        "    frame['date'] = pd.to_datetime(frame['date'],infer_datetime_format=True)\n",
        "    frame = date_range(frame)\n",
        "    data_dict[dict_name] = sampling(frame)\n",
        "  return data_dict"
      ],
      "execution_count": 0,
      "outputs": []
    },
    {
      "cell_type": "markdown",
      "metadata": {
        "id": "tYpxTTA4rJew",
        "colab_type": "text"
      },
      "source": [
        "# Data Collection\n"
      ]
    },
    {
      "cell_type": "markdown",
      "metadata": {
        "id": "JQTCG2TBggrI",
        "colab_type": "text"
      },
      "source": [
        "##Covariates"
      ]
    },
    {
      "cell_type": "code",
      "metadata": {
        "id": "PX1AqwZ6r4H4",
        "colab_type": "code",
        "colab": {}
      },
      "source": [
        "url_dict = {}\n",
        "url_dict['chem'] = \"https://github.com/AzucenaMV/CapstoneProject/tree/master/data/chem/dateVar/\"\n",
        "url_dict['oil'] = \"https://github.com/AzucenaMV/CapstoneProject/tree/master/data/oil/dateVar/\"\n",
        "url_dict['air'] = \"https://github.com/AzucenaMV/CapstoneProject/tree/master/data/airline/dateVar/\"\n",
        "url_dict['econ'] = \"https://github.com/AzucenaMV/CapstoneProject/tree/master/data/economics/\"\n",
        "url_dict['others'] = \"https://github.com/AzucenaMV/CapstoneProject/tree/master/data/others/dateVar/\""
      ],
      "execution_count": 0,
      "outputs": []
    },
    {
      "cell_type": "code",
      "metadata": {
        "id": "sNOqlvpoyfXa",
        "colab_type": "code",
        "colab": {}
      },
      "source": [
        "# Reading data from links\n",
        "data_dict = {}\n",
        "for name,url in url_dict.items():                                                        \n",
        "  data = get_data(url)\n",
        "  reduce_df = partial(pd.merge, left_index=True, right_index=True, how = 'outer')                                                              \n",
        "  data_dict[name] = reduce(reduce_df, data.values())  "
      ],
      "execution_count": 0,
      "outputs": []
    },
    {
      "cell_type": "code",
      "metadata": {
        "id": "wpQ8P_bObtVy",
        "colab_type": "code",
        "colab": {}
      },
      "source": [
        "# Removing data with less than n points\n",
        "n = 39\n",
        "category = 'others'\n",
        "for col in data_dict[category].columns:\n",
        "  if data_dict[category][col].notnull().sum() < n:\n",
        "    del data_dict[category][col]"
      ],
      "execution_count": 0,
      "outputs": []
    },
    {
      "cell_type": "markdown",
      "metadata": {
        "id": "AmJRZpALrcww",
        "colab_type": "text"
      },
      "source": [
        "Fundamentals"
      ]
    },
    {
      "cell_type": "code",
      "metadata": {
        "id": "sJvBzd7h1lJq",
        "colab_type": "code",
        "colab": {}
      },
      "source": [
        "#url_dict_fund = {}\n",
        "#url_dict_fund['others'] = \"https://github.com/AzucenaMV/CapstoneProject/tree/master/data/others/fundamentals/\""
      ],
      "execution_count": 0,
      "outputs": []
    },
    {
      "cell_type": "code",
      "metadata": {
        "id": "2XC8dLwT2TDJ",
        "colab_type": "code",
        "colab": {}
      },
      "source": [
        "#columns = ['epsfxq','revtq','date']\n",
        "#url = url_dict_fund['others']\n",
        "#raw_url = url.replace(\"https://github.com/AzucenaMV/CapstoneProject/tree/master/\",\"https://raw.githubusercontent.com/AzucenaMV/CapstoneProject/master/\")\n",
        "#data = pd.read_html(url)[0]\n",
        "#txt_names = data.Name[data.Name.str.contains(\".txt\")]\n",
        "#for name in txt_names:\n",
        "#  dict_name = name.replace(\".txt\",\"\")\n",
        "#  frame = pd.read_csv(raw_url+name)\n",
        "#  frame['date'] = pd.to_datetime(frame['datadate'],infer_datetime_format=True)\n",
        "#  frame = frame[columns]\n",
        "#  frame = date_range(frame)\n",
        "#  print(frame)"
      ],
      "execution_count": 0,
      "outputs": []
    },
    {
      "cell_type": "code",
      "metadata": {
        "id": "YDO7lud410C7",
        "colab_type": "code",
        "colab": {}
      },
      "source": [
        "# Reading data from links\n",
        "data_dict_fund = {}\n",
        "for name,url in url_dict.items():                                                        \n",
        "  data = get_data(url)\n",
        "  reduce_df = partial(pd.merge, left_index=True, right_index=True, how = 'outer')                                                              \n",
        "  data_dict[name] = reduce(reduce_df, data.values())  "
      ],
      "execution_count": 0,
      "outputs": []
    },
    {
      "cell_type": "markdown",
      "metadata": {
        "id": "OpFcH6cvfuhM",
        "colab_type": "text"
      },
      "source": [
        "##Target Variable\n"
      ]
    },
    {
      "cell_type": "code",
      "metadata": {
        "id": "oGqbmZuTEgBC",
        "colab_type": "code",
        "outputId": "e2890325-e836-414a-c11f-9e68c474516b",
        "colab": {
          "base_uri": "https://localhost:8080/",
          "height": 53
        }
      },
      "source": [
        "# Get tickers from S&P 500 companies \n",
        "data = pd.read_html('https://en.wikipedia.org/wiki/List_of_S%26P_500_companies')\n",
        "table = data[0]\n",
        "table_sector = table[['Symbol','GICS Sector', 'GICS Sub Industry']]\n",
        "table_sector.columns = ['tic', 'sector', 'sub_industry']\n",
        "table_sector = table_sector.apply(lambda x: x.str.lower() if x.name in ['sub_industry','sector'] else x)\n",
        "\n",
        "# Get stock price share\n",
        "stock = pd.read_csv('https://raw.githubusercontent.com/AzucenaMV/CapstoneProject/master/data/sp500/wrds_sp500_stock_price_share.csv')\n",
        "stock = stock[['datadate', 'tic', 'prccd', 'cshoc']]\n",
        "stock.columns = ['date', 'tic', 'price', 'share']\n",
        "stock['date'] = pd.to_datetime(stock['date'],format='%Y%M%d').dt.strftime('%Y-%M-%d')\n",
        "stock['market_val'] = stock['price'] * stock['share']\n",
        "stock = stock.merge(table_sector, on='tic')"
      ],
      "execution_count": 19,
      "outputs": [
        {
          "output_type": "stream",
          "text": [
            "/usr/local/lib/python3.6/dist-packages/IPython/core/interactiveshell.py:2718: DtypeWarning: Columns (1) have mixed types. Specify dtype option on import or set low_memory=False.\n",
            "  interactivity=interactivity, compiler=compiler, result=result)\n"
          ],
          "name": "stderr"
        }
      ]
    },
    {
      "cell_type": "code",
      "metadata": {
        "id": "xl8BKaNTsgyh",
        "colab_type": "code",
        "colab": {}
      },
      "source": [
        "# Splitting sectors\n",
        "chemicals = {'specialty':['specialty chemicals'],'non-specialty':['fertilizers & agricultural chemicals','commodity chemicals','diversified chemicals']}\n",
        "oil = {'upstream':['oil & gas exploration & production','oil & gas drilling'],'midstream':['oil & gas storage & transportation'],'downstream':['oil & gas refining & marketing'],'integrated':['integrated oil & gas'],'services':['oil & gas equipment & services']}\n",
        "airline = {'legacy':['airlines']}\n",
        "industry_dicts = [chemicals,oil,airline]\n",
        "\n",
        "dic_sub_industry_df ={} # df for each sub industry\n",
        "for dic in industry_dicts:\n",
        "  for sub in dic.keys():\n",
        "    dic_sub_industry_df[sub] = stock.loc[stock['sub_industry'].isin(dic[sub]), :]"
      ],
      "execution_count": 0,
      "outputs": []
    },
    {
      "cell_type": "code",
      "metadata": {
        "id": "iT4Fdp0xbyg-",
        "colab_type": "code",
        "colab": {}
      },
      "source": [
        "temp = stock.groupby('date')['market_val', 'share'].agg('sum')\n",
        "df_market = pd.DataFrame(temp['market_val'] / temp['share'], columns=['market']).reset_index()"
      ],
      "execution_count": 0,
      "outputs": []
    },
    {
      "cell_type": "code",
      "metadata": {
        "id": "O40gukykrvYI",
        "colab_type": "code",
        "colab": {}
      },
      "source": [
        "# Aggregating by subindustry\n",
        "df_price_agg = df_market\n",
        "for sub, df in dic_sub_industry_df.items():\n",
        "  temp = df.groupby('date')['market_val', 'share'].agg('sum')\n",
        "  df_outcome = pd.DataFrame(temp['market_val'] / temp['share'], columns=[sub])\n",
        "  df_price_agg = df_price_agg.merge(df_outcome, on='date', how='left') "
      ],
      "execution_count": 0,
      "outputs": []
    },
    {
      "cell_type": "code",
      "metadata": {
        "id": "SqxTPx8yhg8G",
        "colab_type": "code",
        "colab": {
          "base_uri": "https://localhost:8080/",
          "height": 238
        },
        "outputId": "aa21b8c7-9fdc-4223-ff4a-3c7a1c9b7f25"
      },
      "source": [
        "df_price_agg.head()"
      ],
      "execution_count": 33,
      "outputs": [
        {
          "output_type": "execute_result",
          "data": {
            "text/html": [
              "<div>\n",
              "<style scoped>\n",
              "    .dataframe tbody tr th:only-of-type {\n",
              "        vertical-align: middle;\n",
              "    }\n",
              "\n",
              "    .dataframe tbody tr th {\n",
              "        vertical-align: top;\n",
              "    }\n",
              "\n",
              "    .dataframe thead th {\n",
              "        text-align: right;\n",
              "    }\n",
              "</style>\n",
              "<table border=\"1\" class=\"dataframe\">\n",
              "  <thead>\n",
              "    <tr style=\"text-align: right;\">\n",
              "      <th></th>\n",
              "      <th>market</th>\n",
              "      <th>specialty</th>\n",
              "      <th>non-specialty</th>\n",
              "      <th>upstream</th>\n",
              "      <th>midstream</th>\n",
              "      <th>downstream</th>\n",
              "      <th>integrated</th>\n",
              "      <th>services</th>\n",
              "      <th>legacy</th>\n",
              "    </tr>\n",
              "    <tr>\n",
              "      <th>date</th>\n",
              "      <th></th>\n",
              "      <th></th>\n",
              "      <th></th>\n",
              "      <th></th>\n",
              "      <th></th>\n",
              "      <th></th>\n",
              "      <th></th>\n",
              "      <th></th>\n",
              "      <th></th>\n",
              "    </tr>\n",
              "  </thead>\n",
              "  <tbody>\n",
              "    <tr>\n",
              "      <th>2009-12-31</th>\n",
              "      <td>33.250038</td>\n",
              "      <td>35.502226</td>\n",
              "      <td>61.699924</td>\n",
              "      <td>61.808103</td>\n",
              "      <td>24.678472</td>\n",
              "      <td>17.475954</td>\n",
              "      <td>70.332884</td>\n",
              "      <td>49.083616</td>\n",
              "      <td>12.023977</td>\n",
              "    </tr>\n",
              "    <tr>\n",
              "      <th>2010-01-04</th>\n",
              "      <td>33.763571</td>\n",
              "      <td>36.854109</td>\n",
              "      <td>63.452263</td>\n",
              "      <td>63.701038</td>\n",
              "      <td>25.282004</td>\n",
              "      <td>18.665005</td>\n",
              "      <td>71.686781</td>\n",
              "      <td>50.792623</td>\n",
              "      <td>11.839700</td>\n",
              "    </tr>\n",
              "    <tr>\n",
              "      <th>2010-01-05</th>\n",
              "      <td>33.871269</td>\n",
              "      <td>37.481396</td>\n",
              "      <td>64.457564</td>\n",
              "      <td>63.740866</td>\n",
              "      <td>25.449366</td>\n",
              "      <td>19.232099</td>\n",
              "      <td>72.044686</td>\n",
              "      <td>51.158975</td>\n",
              "      <td>12.638237</td>\n",
              "    </tr>\n",
              "    <tr>\n",
              "      <th>2010-01-06</th>\n",
              "      <td>33.862443</td>\n",
              "      <td>37.850241</td>\n",
              "      <td>66.455050</td>\n",
              "      <td>64.336719</td>\n",
              "      <td>26.090430</td>\n",
              "      <td>19.648771</td>\n",
              "      <td>72.457241</td>\n",
              "      <td>52.252925</td>\n",
              "      <td>12.423343</td>\n",
              "    </tr>\n",
              "    <tr>\n",
              "      <th>2010-01-07</th>\n",
              "      <td>34.003506</td>\n",
              "      <td>37.961343</td>\n",
              "      <td>66.449674</td>\n",
              "      <td>63.880724</td>\n",
              "      <td>25.908983</td>\n",
              "      <td>19.778143</td>\n",
              "      <td>72.281186</td>\n",
              "      <td>52.543386</td>\n",
              "      <td>12.782049</td>\n",
              "    </tr>\n",
              "  </tbody>\n",
              "</table>\n",
              "</div>"
            ],
            "text/plain": [
              "               market  specialty  ...   services     legacy\n",
              "date                              ...                      \n",
              "2009-12-31  33.250038  35.502226  ...  49.083616  12.023977\n",
              "2010-01-04  33.763571  36.854109  ...  50.792623  11.839700\n",
              "2010-01-05  33.871269  37.481396  ...  51.158975  12.638237\n",
              "2010-01-06  33.862443  37.850241  ...  52.252925  12.423343\n",
              "2010-01-07  34.003506  37.961343  ...  52.543386  12.782049\n",
              "\n",
              "[5 rows x 9 columns]"
            ]
          },
          "metadata": {
            "tags": []
          },
          "execution_count": 33
        }
      ]
    },
    {
      "cell_type": "code",
      "metadata": {
        "id": "hAcGzeXptiSE",
        "colab_type": "code",
        "colab": {}
      },
      "source": [
        "# Add target data to the data dictionary\n",
        "data_dict['target'] = df_price_agg"
      ],
      "execution_count": 0,
      "outputs": []
    },
    {
      "cell_type": "code",
      "metadata": {
        "id": "wa627F9st1wj",
        "colab_type": "code",
        "colab": {}
      },
      "source": [
        "# first calcualte the percentage change\n",
        "# relative change w.r.t. the market\n",
        "#df_price_agg.index = df_price_agg['date']\n",
        "#del df_price_agg['date']\n",
        "#df_relative_change = df_price_agg.pct_change().div(df_price_agg['market'].pct_change(), axis=0)\n",
        "#df_relative_change"
      ],
      "execution_count": 0,
      "outputs": []
    },
    {
      "cell_type": "code",
      "metadata": {
        "id": "aCyqEVGc9HkI",
        "colab_type": "code",
        "colab": {}
      },
      "source": [
        "# get monthly data for stock price\n",
        "#temp = df_relative_change.reset_index()\n",
        "#temp['start_date'] = temp['date'].str[:7]+'-01'\n",
        "#start_date = pd.DataFrame(temp.groupby('start_date')['date'].min()).reset_index()\n",
        "#temp = start_date.merge(temp, on='date',how='inner')\n",
        "#temp = temp.drop(columns=['date', 'start_date_y']).rename(columns={'start_date_x':'date'})\n",
        "#temp['date'] = pd.to_datetime(temp['date'])\n",
        "#df_relative_change_monthly = temp\n",
        "#df_relative_change_monthly"
      ],
      "execution_count": 0,
      "outputs": []
    },
    {
      "cell_type": "code",
      "metadata": {
        "id": "qtqoDqoC8gbL",
        "colab_type": "code",
        "colab": {}
      },
      "source": [
        "#df_combined = df_others.reset_index().merge(df_relative_change_monthly, on='date').set_index('date').drop(columns=['market'])\n",
        "#df_combined"
      ],
      "execution_count": 0,
      "outputs": []
    },
    {
      "cell_type": "code",
      "metadata": {
        "id": "sAn0Vus-AVGt",
        "colab_type": "code",
        "colab": {}
      },
      "source": [
        "#import seaborn as sns\n",
        "#import numpy as np\n",
        "\n",
        "#corr = df_combined.corr()\n",
        "#sns.heatmap(corr, mask=np.zeros_like(corr, dtype=np.bool), cmap=sns.diverging_palette(220, 10, as_cmap=True),\n",
        "#            square=True, cbar=False)\n",
        "#ax[0].set_title('Legacy Carriers')\n",
        "#ax[0].set_xticklabels(ax[0].get_xticklabels(), rotation=45, horizontalalignment='right')"
      ],
      "execution_count": 0,
      "outputs": []
    },
    {
      "cell_type": "markdown",
      "metadata": {
        "id": "VvUT-MUvje2G",
        "colab_type": "text"
      },
      "source": [
        "## Saving"
      ]
    },
    {
      "cell_type": "code",
      "metadata": {
        "id": "KHSCX9qJjENe",
        "colab_type": "code",
        "colab": {}
      },
      "source": [
        "import pickle\n",
        "\n",
        "with open('data_dict.pickle', 'wb') as handle:\n",
        "    pickle.dump(data_dict, handle, protocol=pickle.HIGHEST_PROTOCOL)"
      ],
      "execution_count": 0,
      "outputs": []
    },
    {
      "cell_type": "code",
      "metadata": {
        "id": "b-Kkfgs7ig4w",
        "colab_type": "code",
        "colab": {}
      },
      "source": [
        "from google.colab import files\n",
        "files.download('data_dict.pickle')"
      ],
      "execution_count": 0,
      "outputs": []
    }
  ]
}